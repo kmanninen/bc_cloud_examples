{
 "cells": [
  {
   "cell_type": "markdown",
   "id": "22e0e99e",
   "metadata": {},
   "source": [
    "# Eye Tracking Example\n",
    "\n",
    "This example demonstrates Akida's eye tracking capabilities using the Brainchip's spatiotemporal architecture.\n",
    "\n",
    "The notebook below is derived from the [\"Efficient online eye tracking with a lightweight spatiotemporal network and event cameras\"](https://doc.brainchipinc.com/examples/spatiotemporal/plot_1_eye_tracking_cvpr.html) on the Brainchip Developer MetaTF website."
   ]
  },
  {
   "cell_type": "markdown",
   "id": "3d741fc2",
   "metadata": {},
   "source": [
    "### Import Necessary Libraries\n",
    "\n",
    "This cell imports essential libraries: matplotplib for event visualizations, the Akida libraries for model execution.."
   ]
  },
  {
   "cell_type": "code",
   "execution_count": 1,
   "id": "d2c43cb2",
   "metadata": {},
   "outputs": [
    {
     "name": "stderr",
     "output_type": "stream",
     "text": [
      "2025-07-31 14:51:11.666786: I tensorflow/core/util/port.cc:113] oneDNN custom operations are on. You may see slightly different numerical results due to floating-point round-off errors from different computation orders. To turn them off, set the environment variable `TF_ENABLE_ONEDNN_OPTS=0`.\n",
      "2025-07-31 14:51:11.687719: E external/local_xla/xla/stream_executor/cuda/cuda_dnn.cc:9261] Unable to register cuDNN factory: Attempting to register factory for plugin cuDNN when one has already been registered\n",
      "2025-07-31 14:51:11.687736: E external/local_xla/xla/stream_executor/cuda/cuda_fft.cc:607] Unable to register cuFFT factory: Attempting to register factory for plugin cuFFT when one has already been registered\n",
      "2025-07-31 14:51:11.688319: E external/local_xla/xla/stream_executor/cuda/cuda_blas.cc:1515] Unable to register cuBLAS factory: Attempting to register factory for plugin cuBLAS when one has already been registered\n",
      "2025-07-31 14:51:11.692264: I tensorflow/core/platform/cpu_feature_guard.cc:182] This TensorFlow binary is optimized to use available CPU instructions in performance-critical operations.\n",
      "To enable the following instructions: AVX2 AVX_VNNI FMA, in other operations, rebuild TensorFlow with the appropriate compiler flags.\n",
      "2025-07-31 14:51:12.142258: W tensorflow/compiler/tf2tensorrt/utils/py_utils.cc:38] TF-TRT Warning: Could not find TensorRT\n",
      "/home/guest/.conda/envs/akida_env/lib/python3.11/site-packages/onnxscript/converter.py:816: FutureWarning: 'onnxscript.values.Op.param_schemas' is deprecated in version 0.1 and will be removed in the future. Please use '.op_signature' instead.\n",
      "  param_schemas = callee.param_schemas()\n"
     ]
    }
   ],
   "source": [
    "import numpy as np\n",
    "import matplotlib.pyplot as plt\n",
    "from IPython.display import clear_output, display\n",
    "import time\n",
    "import tensorflow as tf\n",
    "\n",
    "from cnn2snn import set_akida_version, AkidaVersion\n",
    "import akida\n",
    "from akida_models.tenn_spatiotemporal.eye_preprocessing import preprocess_data\n",
    "from akida_models.tenn_spatiotemporal.eye_losses import process_detector_prediction "
   ]
  },
  {
   "cell_type": "markdown",
   "id": "c3a72c1f",
   "metadata": {},
   "source": [
    "### Load and segment the sample events"
   ]
  },
  {
   "cell_type": "code",
   "execution_count": 2,
   "id": "afe2773e",
   "metadata": {},
   "outputs": [],
   "source": [
    "def load_and_segment_npy(file_path, time_window_us=10_000, segment_duration_us=500_000):\n",
    "    \"\"\"\n",
    "    Loads event data from a structured .npy file, splits it into 500ms segments,\n",
    "    and converts each segment into model-compatible frames using preprocess_data.\n",
    "    Args:\n",
    "        file_path (str): Path to the .npy event file (with fields: 'p', 'x', 'y', 't').\n",
    "        preprocess_data_fn (callable): preprocess_data function to apply per segment.\n",
    "        time_window_us (int): Time window per frame (default: 10,000µs).\n",
    "        segment_duration_us (int): Duration of each segment in microseconds (default: 500,000µs).\n",
    "    Returns:\n",
    "        list of tf.Tensor: List of processed frame tensors.\n",
    "    \"\"\"\n",
    "    # Load structured event array\n",
    "    data = np.load(file_path)\n",
    "    # print(f\"Loaded {data.shape[0]} events\")\n",
    "\n",
    "    # Convert structured fields to float32 arrays\n",
    "    p = data['p'].astype('float32')\n",
    "    x = data['x'].astype('float32')\n",
    "    y = data['y'].astype('float32')\n",
    "    t = data['t'].astype('float32')\n",
    "\n",
    "    # Prepare stacked event tensor (4, N)\n",
    "    trial = tf.stack([p, x, y, t], axis=0)\n",
    "\n",
    "    # Time range\n",
    "    t_start = t[0]\n",
    "    t_end = t[-1]\n",
    "\n",
    "    frames_list = []\n",
    "    segment_list = []\n",
    "\n",
    "    current_time = t_start\n",
    "    while current_time + segment_duration_us <= t_end:\n",
    "        # Get indices for the current 500ms window\n",
    "        start_idx = np.searchsorted(t, current_time, side='left')\n",
    "        end_idx = np.searchsorted(t, current_time + segment_duration_us, side='right')\n",
    "\n",
    "        # Slice event segment\n",
    "        segment = tf.stack([\n",
    "            p[start_idx:end_idx],\n",
    "            x[start_idx:end_idx],\n",
    "            y[start_idx:end_idx],\n",
    "            t[start_idx:end_idx]\n",
    "        ], axis=0)\n",
    "\n",
    "        # Dummy label (e.g. center)\n",
    "        label = tf.convert_to_tensor([[0.5, 0.5, 0]], dtype=tf.float32)\n",
    "\n",
    "        # Preprocess segment into frames\n",
    "        frames, _ = preprocess_data(\n",
    "            events=segment,\n",
    "            label=label,\n",
    "            train_mode=False,\n",
    "            frames_per_segment=1,\n",
    "            spatial_downsample=(6, 6),\n",
    "            time_window=time_window_us\n",
    "        )\n",
    "\n",
    "        frames_list.append(frames)\n",
    "        segment_list.append(segment)\n",
    "        current_time += segment_duration_us\n",
    "\n",
    "    print(f\"Processed {len(frames_list)} segments of 500ms each.\")\n",
    "    return frames_list, segment_list\n"
   ]
  },
  {
   "cell_type": "code",
   "execution_count": 3,
   "id": "95e6fd2d",
   "metadata": {},
   "outputs": [
    {
     "name": "stdout",
     "output_type": "stream",
     "text": [
      "Processed 22 segments of 500ms each.\n",
      "Loaded data with 22 frames, 80×106 pixels, 2 channels\n"
     ]
    }
   ],
   "source": [
    "frames_all, segment_all = load_and_segment_npy(\"eye_tracking_event_examples.npy\")\n",
    "n_frames = len(frames_all)\n",
    "N, H, W, n_ch = frames_all[0].shape\n",
    "print(f\"Loaded data with {n_frames} frames, {H}×{W} pixels, {n_ch} channels\")"
   ]
  },
  {
   "cell_type": "markdown",
   "id": "1bb23b79",
   "metadata": {},
   "source": [
    "### Load Pre-trained model\n",
    "\n",
    "Loads a pre-trained quantized model for eye tracking via `akida_models`."
   ]
  },
  {
   "cell_type": "code",
   "execution_count": 4,
   "id": "00b83564",
   "metadata": {},
   "outputs": [
    {
     "name": "stdout",
     "output_type": "stream",
     "text": [
      "Model input shape: [80, 106, 2]\n"
     ]
    }
   ],
   "source": [
    "import akida_models\n",
    "from akida_models.model_io import load_model\n",
    "model = load_model(\"models/tenn_spatiotemporal_eye_buffer_i8_w8_a8.fbz\")\n",
    "print(f\"Model input shape: {model.input_shape}\")"
   ]
  },
  {
   "cell_type": "markdown",
   "id": "dbf653de",
   "metadata": {},
   "source": [
    "Map the `akida_model` onto the device."
   ]
  },
  {
   "cell_type": "code",
   "execution_count": 5,
   "id": "1a8b5460",
   "metadata": {},
   "outputs": [
    {
     "name": "stdout",
     "output_type": "stream",
     "text": [
      "Available devices: ['fpga-1691']\n",
      "BC.A2.001.000\n",
      "Mapping to Akida device fpga-1691.\n"
     ]
    }
   ],
   "source": [
    "with set_akida_version(AkidaVersion.v2):\n",
    "    devices = akida.devices()\n",
    "    if len(devices) > 0:\n",
    "        print(f'Available devices: {[dev.desc for dev in devices]}')\n",
    "        device = devices[0]\n",
    "        print(device.version)\n",
    "        try:\n",
    "            model.map(device)\n",
    "            print(f\"Mapping to Akida device {device.desc}.\")\n",
    "            mappedDevice = device.version\n",
    "        except Exception as e:\n",
    "            print(\"Model not compatible with FPGA. Running on CPU.\")\n",
    "            mappedDevice = \"CPU\"\n",
    "    else:\n",
    "        print(\"No Akida devices found, running on CPU.\")\n",
    "        mappedDevice = \"CPU\""
   ]
  },
  {
   "cell_type": "markdown",
   "id": "0db70ab1-31d6-47a2-b865-28acdda45b39",
   "metadata": {},
   "source": [
    "### Model Summary After Mapping"
   ]
  },
  {
   "cell_type": "code",
   "execution_count": 6,
   "id": "0521a34f-db06-47a1-8f0d-97942b947cf6",
   "metadata": {},
   "outputs": [
    {
     "name": "stdout",
     "output_type": "stream",
     "text": [
      "                                     Model Summary                                      \n",
      "________________________________________________________________________________________\n",
      "Input shape   Output shape  Sequences  Layers  NPs  Skip DMAs  External Memory (Bytes)\n",
      "========================================================================================\n",
      "[80, 106, 2]  [3, 4, 3]     1          20      36   6          307008                 \n",
      "________________________________________________________________________________________\n",
      "\n",
      "_________________________\n",
      "Component (type)  Count\n",
      "=========================\n",
      "CNP1              23   \n",
      "_________________________\n",
      "SKIP_DMA_STORE    6    \n",
      "_________________________\n",
      "TNP_B             13   \n",
      "_________________________\n",
      "SKIP_DMA_LOAD     6    \n",
      "_________________________\n",
      "\n",
      "                      External Memory Summary                       \n",
      "____________________________________________________________________\n",
      "Layer (type)                               External Memory (Bytes)\n",
      "====================================================================\n",
      "convt_full_0 (BufferTempConv)              101760                 \n",
      "____________________________________________________________________\n",
      "convt_full_1 (BufferTempConv)              103680                 \n",
      "____________________________________________________________________\n",
      "convt_full_2 (BufferTempConv)              53760                  \n",
      "____________________________________________________________________\n",
      "convt_dw_3 (DepthwiseBufferTempConv)       20160                  \n",
      "____________________________________________________________________\n",
      "convt_dw_4 (DepthwiseBufferTempConv)       9216                   \n",
      "____________________________________________________________________\n",
      "HEAD_convt_dw_4 (DepthwiseBufferTempConv)  18432                  \n",
      "____________________________________________________________________\n",
      "\n",
      "_________________________________________________________________________________________________________________________\n",
      "Layer (type)                               Output shape  Kernel shape      Components                                  \n",
      "\n",
      "============================== HW/convs_full_0-dequantizer (Hardware) - size: 307856 bytes ==============================\n",
      "\n",
      "convs_full_0 (Conv2D)                      [40, 53, 8]   (3, 3, 2, 8)      2 CNP1                                      \n",
      "_________________________________________________________________________________________________________________________\n",
      "convt_full_0 (BufferTempConv)              [40, 53, 16]  (1, 1, 40, 16)    2 TNP_B + 1 SKIP_DMA_STORE + 1 SKIP_DMA_LOAD\n",
      "_________________________________________________________________________________________________________________________\n",
      "convs_full_1 (Conv2D)                      [20, 27, 32]  (3, 3, 16, 32)    1 CNP1                                      \n",
      "_________________________________________________________________________________________________________________________\n",
      "convt_full_1 (BufferTempConv)              [20, 27, 48]  (1, 1, 160, 48)   2 TNP_B + 1 SKIP_DMA_STORE + 1 SKIP_DMA_LOAD\n",
      "_________________________________________________________________________________________________________________________\n",
      "convs_full_2 (Conv2D)                      [10, 14, 64]  (3, 3, 48, 64)    1 CNP1                                      \n",
      "_________________________________________________________________________________________________________________________\n",
      "convt_full_2 (BufferTempConv)              [10, 14, 80]  (1, 1, 320, 80)   1 TNP_B + 1 SKIP_DMA_STORE + 1 SKIP_DMA_LOAD\n",
      "_________________________________________________________________________________________________________________________\n",
      "convs_dw_3 (DepthwiseConv2D)               [5, 7, 80]    (3, 3, 80, 1)     1 CNP1                                      \n",
      "_________________________________________________________________________________________________________________________\n",
      "convs_pw_3 (Conv2D)                        [5, 7, 96]    (1, 1, 80, 96)    2 CNP1                                      \n",
      "_________________________________________________________________________________________________________________________\n",
      "convt_dw_3 (DepthwiseBufferTempConv)       [5, 7, 96]    (1, 1, 5, 96)     2 TNP_B + 1 SKIP_DMA_STORE + 1 SKIP_DMA_LOAD\n",
      "========================================================= pass 2 ========================================================\n",
      "convt_pw_3 (Conv2D)                        [5, 7, 112]   (1, 1, 96, 112)   2 CNP1                                      \n",
      "_________________________________________________________________________________________________________________________\n",
      "convs_dw_4 (DepthwiseConv2D)               [3, 4, 112]   (3, 3, 112, 1)    2 CNP1                                      \n",
      "_________________________________________________________________________________________________________________________\n",
      "convs_pw_4 (Conv2D)                        [3, 4, 128]   (1, 1, 112, 128)  2 CNP1                                      \n",
      "_________________________________________________________________________________________________________________________\n",
      "convt_dw_4 (DepthwiseBufferTempConv)       [3, 4, 128]   (1, 1, 5, 128)    2 TNP_B + 1 SKIP_DMA_STORE + 1 SKIP_DMA_LOAD\n",
      "_________________________________________________________________________________________________________________________\n",
      "convt_pw_4 (Conv2D)                        [3, 4, 256]   (1, 1, 128, 256)  3 CNP1                                      \n",
      "_________________________________________________________________________________________________________________________\n",
      "HEAD_convt_dw_4 (DepthwiseBufferTempConv)  [3, 4, 256]   (1, 1, 5, 256)    4 TNP_B + 1 SKIP_DMA_STORE + 1 SKIP_DMA_LOAD\n",
      "_________________________________________________________________________________________________________________________\n",
      "HEAD_convt_pw_4 (Conv2D)                   [3, 4, 256]   (1, 1, 256, 256)  3 CNP1                                      \n",
      "_________________________________________________________________________________________________________________________\n",
      "HEAD_convs_dw_4 (DepthwiseConv2D)          [3, 4, 256]   (3, 3, 256, 1)    3 CNP1                                      \n",
      "_________________________________________________________________________________________________________________________\n",
      "HEAD_convs_pw_4 (Conv2D)                   [3, 4, 3]     (1, 1, 256, 3)    1 CNP1                                      \n",
      "_________________________________________________________________________________________________________________________\n",
      "dequantizer (Dequantizer)                  [3, 4, 3]     N/A               N/A                                         \n",
      "_________________________________________________________________________________________________________________________\n"
     ]
    }
   ],
   "source": [
    "model.summary()"
   ]
  },
  {
   "cell_type": "markdown",
   "id": "5ec0b442",
   "metadata": {},
   "source": [
    "### Perform eye tracking inference against sample event data"
   ]
  },
  {
   "cell_type": "code",
   "execution_count": 7,
   "id": "1e207083",
   "metadata": {},
   "outputs": [
    {
     "data": {
      "image/png": "[encoded data removed]",
      "text/plain": [
       "<Figure size 600x600 with 1 Axes>"
      ]
     },
     "metadata": {},
     "output_type": "display_data"
    }
   ],
   "source": [
    "if n_ch == 2:\n",
    "    # e.g. channel 0 = red, channel 1 = blue\n",
    "    colors = np.array([[255, 0, 0], [0, 0, 255]], dtype=np.uint8)\n",
    "else:\n",
    "    # fallback: pick from matplotlib’s tab10 palette\n",
    "    import matplotlib\n",
    "    cmap = matplotlib.cm.get_cmap('tab10', n_ch)\n",
    "    colors = (cmap(range(n_ch))[:, :3] * 255).astype(np.uint8)\n",
    "\n",
    "# 3) Create one figure & axis to reuse\n",
    "fig, ax = plt.subplots(figsize=(6, 6))\n",
    "\n",
    "frame_number = 0\n",
    "\n",
    "# Define the size of the cross\n",
    "cross_size = 3\n",
    "\n",
    "# 4) Loop over frames, updating in place\n",
    "for f in frames_all:\n",
    "    frame_number += 1\n",
    "    # 4a) start from a mid-gray background\n",
    "    frame_vis = np.full((H, W, 3), 128, dtype=np.uint8)\n",
    "\n",
    "    f_np = f.numpy() if isinstance(f, tf.Tensor) else f  # Ensure f is a numpy array\n",
    "    frame = f_np[0]\n",
    "\n",
    "    # predict using the model\n",
    "    pred = model.predict(f_np)\n",
    "\n",
    "    pred = process_detector_prediction(tf.expand_dims(pred, 0))\n",
    "\n",
    "    y_pred_x = pred[:, 1] * W\n",
    "    y_pred_y = pred[:, 0] * H\n",
    "\n",
    "\n",
    "    # Convert to NumPy scalars\n",
    "    cx = int(y_pred_x.numpy().flatten()[0])\n",
    "    cy = int(y_pred_y.numpy().flatten()[0])\n",
    "\n",
    "    # 4b) paint each channel’s “events” on top\n",
    "    for ch in range(n_ch):\n",
    "        \n",
    "        mask = frame[ :, :, ch] > 0   # assuming >0 marks an event\n",
    "\n",
    "        pred_mask = np.zeros((frame.shape[0], frame.shape[1]), dtype=bool)\n",
    "        # Draw a cross centered at (x, y)\n",
    "        for i in range(-cross_size, cross_size + 1):\n",
    "            if 0 <= cx + i < frame.shape[0]:\n",
    "                pred_mask[cx + i, cy] = True\n",
    "            if 0 <= cy + i < frame.shape[1]:\n",
    "                pred_mask[cx, cy + i] = True\n",
    "\n",
    "        frame_vis[mask] = colors[ch]\n",
    "        frame_vis[pred_mask] = [255, 255, 0]\n",
    "    \n",
    "    # 4c) update the image\n",
    "    ax.clear()\n",
    "    ax.imshow(frame_vis)\n",
    "    ax.set_title(f'Frame {frame_number}/{n_frames}')\n",
    "    ax.axis('off')\n",
    "    \n",
    "    # 4d) redraw the same window\n",
    "    clear_output(wait=True)\n",
    "    display(fig)\n",
    "    time.sleep(0.01)   # adjust playback speed\n",
    "\n",
    "# 5) close when done\n",
    "plt.close(fig)"
   ]
  },
  {
   "cell_type": "markdown",
   "id": "cfd77db0-699b-4244-9414-51f366ac452c",
   "metadata": {},
   "source": [
    "### Model Statistics"
   ]
  },
  {
   "cell_type": "code",
   "execution_count": 8,
   "id": "bc01461e-e354-4427-bc27-f4cf3d39dff4",
   "metadata": {},
   "outputs": [
    {
     "data": {
      "text/plain": [
       "fps: 15.38, inference clock: 1618856, program clock: 3248046"
      ]
     },
     "execution_count": 8,
     "metadata": {},
     "output_type": "execute_result"
    }
   ],
   "source": [
    "model.statistics"
   ]
  },
  {
   "cell_type": "markdown",
   "id": "99eeae52-6676-4278-ba89-809a066aa586",
   "metadata": {},
   "source": [
    "#### Note: Once you’ve finished running the notebook, ***\"Uncomment and run the cell below\"*** to release the device and free it up for further experiments."
   ]
  },
  {
   "cell_type": "code",
   "execution_count": 9,
   "id": "620869d9-58c7-46c3-b816-b57f80feb572",
   "metadata": {},
   "outputs": [],
   "source": [
    "# import os\n",
    "# os._exit(00)"
   ]
  },
  {
   "attachments": {
    "5db9e2e8-18f9-43d0-89a6-98c3bdbce362.png": {
     "image/png": "[encoded data removed]"
    }
   },
   "cell_type": "markdown",
   "id": "80c839b3-299a-47f6-ae09-7acab56fb25b",
   "metadata": {},
   "source": [
    "#### You can also use this button to reset your kernel\n",
    "\n",
    "![image.png](attachment:5db9e2e8-18f9-43d0-89a6-98c3bdbce362.png)"
   ]
  }
 ],
 "metadata": {
  "kernelspec": {
   "display_name": "Python 3 (ipykernel)",
   "language": "python",
   "name": "python3"
  },
  "language_info": {
   "codemirror_mode": {
    "name": "ipython",
    "version": 3
   },
   "file_extension": ".py",
   "mimetype": "text/x-python",
   "name": "python",
   "nbconvert_exporter": "python",
   "pygments_lexer": "ipython3",
   "version": "3.11.13"
  }
 },
 "nbformat": 4,
 "nbformat_minor": 5
}
