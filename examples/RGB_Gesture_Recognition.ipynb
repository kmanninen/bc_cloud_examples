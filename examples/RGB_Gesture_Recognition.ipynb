{
 "cells": [
  {
   "cell_type": "markdown",
   "id": "fcee23bd",
   "metadata": {},
   "source": [
    "# RGB Gesture Recognition Example with Jesture Dataset\n",
    "\n"
   ]
  },
  {
   "cell_type": "markdown",
   "id": "2a258f29",
   "metadata": {},
   "source": [
    "### Import Necessary Libraries\n",
    "\n",
    "This cell imports essential libraries: Gradio for the interface, OpenCV for image processing, the Akida library for model execution, and NumPy and Plotly for data handling and visualization."
   ]
  },
  {
   "cell_type": "code",
   "execution_count": 1,
   "id": "35785368",
   "metadata": {},
   "outputs": [
    {
     "name": "stderr",
     "output_type": "stream",
     "text": [
      "/home/kmanninen/miniconda3/envs/akida_env/lib/python3.11/site-packages/tqdm/auto.py:21: TqdmWarning: IProgress not found. Please update jupyter and ipywidgets. See https://ipywidgets.readthedocs.io/en/stable/user_install.html\n",
      "  from .autonotebook import tqdm as notebook_tqdm\n",
      "2025-08-11 15:32:59.527781: I tensorflow/core/util/port.cc:113] oneDNN custom operations are on. You may see slightly different numerical results due to floating-point round-off errors from different computation orders. To turn them off, set the environment variable `TF_ENABLE_ONEDNN_OPTS=0`.\n",
      "2025-08-11 15:32:59.577568: E external/local_xla/xla/stream_executor/cuda/cuda_dnn.cc:9261] Unable to register cuDNN factory: Attempting to register factory for plugin cuDNN when one has already been registered\n",
      "2025-08-11 15:32:59.577623: E external/local_xla/xla/stream_executor/cuda/cuda_fft.cc:607] Unable to register cuFFT factory: Attempting to register factory for plugin cuFFT when one has already been registered\n",
      "2025-08-11 15:32:59.578815: E external/local_xla/xla/stream_executor/cuda/cuda_blas.cc:1515] Unable to register cuBLAS factory: Attempting to register factory for plugin cuBLAS when one has already been registered\n",
      "2025-08-11 15:32:59.591313: I tensorflow/core/platform/cpu_feature_guard.cc:182] This TensorFlow binary is optimized to use available CPU instructions in performance-critical operations.\n",
      "To enable the following instructions: AVX2 AVX_VNNI FMA, in other operations, rebuild TensorFlow with the appropriate compiler flags.\n",
      "2025-08-11 15:33:01.037993: W tensorflow/compiler/tf2tensorrt/utils/py_utils.cc:38] TF-TRT Warning: Could not find TensorRT\n",
      "/home/kmanninen/miniconda3/envs/akida_env/lib/python3.11/site-packages/onnxscript/converter.py:816: FutureWarning: 'onnxscript.values.Op.param_schemas' is deprecated in version 0.1 and will be removed in the future. Please use '.op_signature' instead.\n",
      "  param_schemas = callee.param_schemas()\n"
     ]
    }
   ],
   "source": [
    "import gradio as gr\n",
    "import cv2\n",
    "\n",
    "from cnn2snn import set_akida_version, AkidaVersion\n",
    "import akida\n",
    "\n",
    "import numpy as np\n",
    "\n",
    "import time\n",
    "\n",
    "import plotly.graph_objects as go"
   ]
  },
  {
   "cell_type": "markdown",
   "id": "47f5d0b6",
   "metadata": {},
   "source": [
    "### Gauge Creation Function\n",
    "\n",
    "Defines a function using Plotly to create a gauge visualization for metrics such as frames per second during image classification."
   ]
  },
  {
   "cell_type": "code",
   "execution_count": 2,
   "id": "31006aa1",
   "metadata": {},
   "outputs": [],
   "source": [
    "def create_gauge(value):\n",
    "    fig = go.Figure(go.Indicator(\n",
    "        mode=\"gauge+number\",\n",
    "        value=value,\n",
    "        gauge={'axis': {'range': [0, 30]}},\n",
    "        domain={'x': [0, 1], 'y': [0, 1]},\n",
    "    ))\n",
    "    fig.update_layout(width=400, height=300)\n",
    "    return fig"
   ]
  },
  {
   "cell_type": "markdown",
   "id": "2944ee12",
   "metadata": {},
   "source": [
    "### Softmax Function for Arrays\n",
    "\n",
    "Implements a softmax function to convert model outputs into probability distributions."
   ]
  },
  {
   "cell_type": "code",
   "execution_count": 3,
   "id": "0507dfda",
   "metadata": {},
   "outputs": [],
   "source": [
    "# Softmax for an array of values\n",
    "def softmaxArray(values):\n",
    "    # Assuming array shape is (1, 1, 1, x), flatten to get the values\n",
    "    values = values.ravel()\n",
    "    exp_values = np.exp(values)\n",
    "    sum_exp = np.sum(exp_values)\n",
    "    softmax_values = exp_values / sum_exp\n",
    "    return softmax_values"
   ]
  },
  {
   "cell_type": "markdown",
   "id": "01e976a9",
   "metadata": {},
   "source": [
    "### Image Configuration and Output Decoding\n",
    "\n",
    "Sets up image parameters and label names, and includes a function to preprocess images and decode predictions into readable labels."
   ]
  },
  {
   "cell_type": "code",
   "execution_count": 4,
   "id": "9ebc6633",
   "metadata": {},
   "outputs": [],
   "source": [
    "# Decode numeric labels into human readable ones: contains all string names for classes\n",
    "# available in the dataset\n",
    "import os\n",
    "import csv\n",
    "# Get current working directory\n",
    "current_directory = os.getcwd()\n",
    "# Construct full file path\n",
    "file_path = os.path.join(current_directory, 'datasets/jester_subset', 'jester-v1-labels.csv')\n",
    "# Open the file\n",
    "with open(file_path, 'r') as csvfile:\n",
    "    labels = [row[0] for row in csv.reader(csvfile)]"
   ]
  },
  {
   "cell_type": "code",
   "execution_count": 5,
   "id": "48246e84",
   "metadata": {},
   "outputs": [],
   "source": [
    "image_x = 100\n",
    "image_y = 100\n",
    "image_z = 3\n",
    "def decodeOutput(inp):\n",
    "        global akida_model\n",
    "        inp = cv2.resize(inp, (image_x, image_y))\n",
    "        inp = inp.reshape((-1, image_x, image_y, image_z))\n",
    "        timer_start = time.time()\n",
    "        predictions = softmaxArray(akida_model.predict(inp))\n",
    "        frame_time = time.time() - timer_start\n",
    "        fps = 1 / frame_time if frame_time > 0 else 0\n",
    "        confidences = {labels[i]: predictions[i] for i in range(len(predictions))}\n",
    "        sorted_confidences = dict(sorted(confidences.items(), key=lambda item: item[0]))\n",
    "\n",
    "        # Get top prediction and send to AFrame\n",
    "        top_gesture = max(confidences, key=confidences.get)\n",
    "        confidence = confidences[top_gesture]\n",
    "\n",
    "        gesture_key = top_gesture\n",
    "        #print(f\"gesture_key: {gesture_key}, confidence: {confidence}, fps: {fps}\")\n",
    "        gesture_prediction = \"\"\n",
    "\n",
    "        if confidence > 0.84:\n",
    "                gesture_to_key = {\n",
    "                'Sliding Two Fingers Left': 'ArrowLeft',\n",
    "                'Sliding Two Fingers Right': 'ArrowRight',\n",
    "                'Zooming In With Two Fingers': 'ArrowUp', \n",
    "                #'Zooming Out With Full Hand': 'ArrowDown',  # Commented out to avoid conflict with zooming in\n",
    "                'Shaking Hand': 'Space'\n",
    "                }\n",
    "                gesture_key = gesture_to_key.get(top_gesture, \"\")\n",
    "                gesture_prediction = top_gesture\n",
    "                #print(f\"Gesture key: {gesture_key}\")\n",
    "        else:\n",
    "                gesture_key = \"\"\n",
    "                gesture_prediction = \"\"\n",
    "                # print(\"No valid gesture detected\")\n",
    "                \n",
    "                \n",
    "\n",
    "        return sorted_confidences, fps, gesture_key, gesture_prediction"
   ]
  },
  {
   "cell_type": "markdown",
   "id": "d8830e8d",
   "metadata": {},
   "source": [
    "### Image Classification Wrapper\n",
    "\n",
    "A function that processes an image, decodes it, and returns classification confidences with a gauge visualization of processing speed."
   ]
  },
  {
   "cell_type": "code",
   "execution_count": 6,
   "id": "bccd78e7",
   "metadata": {},
   "outputs": [],
   "source": [
    "def classify_image(inp):\n",
    "\n",
    "  confidences, fps, gesture_key, gesture_prediction = decodeOutput(inp)\n",
    "  #print(f\"Gesture: {gesture_key}, FPS: {fps}\")\n",
    "\n",
    "  return create_gauge(round(fps, 2)), gesture_key, gesture_prediction"
   ]
  },
  {
   "cell_type": "markdown",
   "id": "a5afcdd6",
   "metadata": {},
   "source": [
    "### Load Pre-trained Model\n",
    "\n",
    "Loads a pre-trained quantized model for visual wake word detection via `akida_models`."
   ]
  },
  {
   "cell_type": "code",
   "execution_count": 7,
   "id": "fc99fd75",
   "metadata": {},
   "outputs": [
    {
     "name": "stdout",
     "output_type": "stream",
     "text": [
      "                 Model Summary                  \n",
      "________________________________________________\n",
      "Input shape    Output shape  Sequences  Layers\n",
      "================================================\n",
      "[100, 100, 3]  [1, 1, 27]    1          18    \n",
      "________________________________________________\n",
      "\n",
      "_________________________________________________________________________\n",
      "Layer (type)                            Output shape   Kernel shape    \n",
      "\n",
      "================== SW/input_conv-dequantizer (Software) =================\n",
      "\n",
      "input_conv (InputConv2D)                [50, 50, 8]    (3, 3, 3, 8)    \n",
      "_________________________________________________________________________\n",
      "convt_full_1_0 (BufferTempConv)         [50, 50, 20]   (1, 1, 40, 20)  \n",
      "_________________________________________________________________________\n",
      "convs_full_1_0 (Conv2D)                 [25, 25, 40]   (3, 3, 20, 40)  \n",
      "_________________________________________________________________________\n",
      "convt_full_2_0 (BufferTempConv)         [25, 25, 80]   (1, 1, 200, 80) \n",
      "_________________________________________________________________________\n",
      "convs_full_2_0 (Conv2D)                 [13, 13, 120]  (3, 3, 80, 120) \n",
      "_________________________________________________________________________\n",
      "convt_full_3_0 (BufferTempConv)         [13, 13, 160]  (1, 1, 600, 160)\n",
      "_________________________________________________________________________\n",
      "convs_full_3_0 (Conv2D)                 [7, 7, 200]    (3, 3, 160, 200)\n",
      "_________________________________________________________________________\n",
      "convt_dw_4_0 (DepthwiseBufferTempConv)  [7, 7, 200]    (1, 1, 5, 200)  \n",
      "_________________________________________________________________________\n",
      "convt_pw_4_0 (Conv2D)                   [7, 7, 240]    (1, 1, 200, 240)\n",
      "_________________________________________________________________________\n",
      "convs_dw_4_0 (DepthwiseConv2D)          [4, 4, 240]    (3, 3, 240, 1)  \n",
      "_________________________________________________________________________\n",
      "convs_pw_4_0 (Conv2D)                   [4, 4, 280]    (1, 1, 240, 280)\n",
      "_________________________________________________________________________\n",
      "convt_dw_5_0 (DepthwiseBufferTempConv)  [4, 4, 280]    (1, 1, 5, 280)  \n",
      "_________________________________________________________________________\n",
      "convt_pw_5_0 (Conv2D)                   [4, 4, 320]    (1, 1, 280, 320)\n",
      "_________________________________________________________________________\n",
      "convs_dw_5_0 (DepthwiseConv2D)          [2, 2, 320]    (3, 3, 320, 1)  \n",
      "_________________________________________________________________________\n",
      "convs_pw_5_0 (Conv2D)                   [1, 1, 640]    (1, 1, 320, 640)\n",
      "_________________________________________________________________________\n",
      "dense (Dense1D)                         [1, 1, 640]    (640, 640)      \n",
      "_________________________________________________________________________\n",
      "dense_1 (Dense1D)                       [1, 1, 27]     (640, 27)       \n",
      "_________________________________________________________________________\n",
      "dequantizer (Dequantizer)               [1, 1, 27]     N/A             \n",
      "_________________________________________________________________________\n"
     ]
    }
   ],
   "source": [
    "from akida_models.model_io import load_model\n",
    "akida_model = load_model(\"models/tenn_spatiotemporal_jester_buffer_i8_w8_a8.fbz\")\n",
    "akida_model.summary()"
   ]
  },
  {
   "cell_type": "markdown",
   "id": "9da0efcf",
   "metadata": {},
   "source": [
    "Map the `akida_model` onto the device."
   ]
  },
  {
   "cell_type": "code",
   "execution_count": 8,
   "id": "d2ea800d",
   "metadata": {},
   "outputs": [
    {
     "name": "stdout",
     "output_type": "stream",
     "text": [
      "No Akida devices found, running on CPU.\n"
     ]
    }
   ],
   "source": [
    "with set_akida_version(AkidaVersion.v2):\n",
    "            devices = akida.devices()\n",
    "            if len(devices) > 0:\n",
    "                print(f'Available devices: {[dev.desc for dev in devices]}')\n",
    "                device = devices[0]\n",
    "                print(device.version)\n",
    "                try:\n",
    "                    akida_model.map(device)\n",
    "                    print(f\"Mapping to Akida device {device.desc}.\")\n",
    "                    mappedDevice = device.version\n",
    "                except Exception as e:\n",
    "                    print(\"Model not compatible with FPGA. Running on CPU.\")\n",
    "                    mappedDevice = \"CPU\"\n",
    "            else:\n",
    "                print(\"No Akida devices found, running on CPU.\")\n",
    "                mappedDevice = \"CPU\""
   ]
  },
  {
   "cell_type": "markdown",
   "id": "c29462c7-a75f-479f-a260-8ddc9a6332c4",
   "metadata": {},
   "source": [
    "### Model Summary After Mapping"
   ]
  },
  {
   "cell_type": "code",
   "execution_count": null,
   "id": "88ddc6a3-7e8c-4f66-a896-7c93fe7fcc63",
   "metadata": {},
   "outputs": [],
   "source": [
    "akida_model.summary()"
   ]
  },
  {
   "cell_type": "markdown",
   "id": "7b6ee5a7",
   "metadata": {},
   "source": [
    "### Gradio Interface Setup\n",
    "\n",
    "Creates a Gradio interface to capture webcam images, display device information, and stream classified images using the Akida model. The interface shows live predictions and frame processing speeds."
   ]
  },
  {
   "cell_type": "code",
   "execution_count": 9,
   "id": "05b0e8c4",
   "metadata": {},
   "outputs": [
    {
     "name": "stdout",
     "output_type": "stream",
     "text": [
      "* Running on local URL:  http://127.0.0.1:7860\n",
      "* To create a public link, set `share=True` in `launch()`.\n"
     ]
    },
    {
     "data": {
      "text/html": [
       "<div><iframe src=\"http://127.0.0.1:7860/\" width=\"100%\" height=\"500\" allow=\"autoplay; camera; microphone; clipboard-read; clipboard-write;\" frameborder=\"0\" allowfullscreen></iframe></div>"
      ],
      "text/plain": [
       "<IPython.core.display.HTML object>"
      ]
     },
     "metadata": {},
     "output_type": "display_data"
    }
   ],
   "source": [
    "theme = gr.themes.Base(\n",
    "    text_size=\"sm\",\n",
    "    spacing_size=\"sm\",\n",
    "    radius_size=\"sm\",\n",
    ")\n",
    "\n",
    "gr.set_static_paths(paths=[\"vr/\", \"img/\"])\n",
    "\n",
    "\n",
    "\n",
    "with gr.Blocks(\n",
    "    title=\"Brainchip\",\n",
    "    fill_width=True,\n",
    "    fill_height=True,\n",
    "    delete_cache=[180, 600],\n",
    "    theme=theme\n",
    ") as demo:\n",
    "    gr.Markdown(\"\"\"\n",
    "        <h1 style=\"text-align: center;\">Akida Cloud</h1>\n",
    "        <br>\n",
    "        \"\"\")\n",
    "    with gr.Row():\n",
    "        gr.Markdown(\"## Gesture Recognition with RGB Camera\")\n",
    "    with gr.Row():\n",
    "        with gr.Column():\n",
    "            input_img = gr.Image(sources=[\"webcam\"], type=\"numpy\")\n",
    "            gr.Markdown(\"**ℹ️ Please press the 'Record' button to start inference.**\")\n",
    "            gesture_prediction = gr.Textbox(visible=True, label=\"Gesture\", placeholder=\"Detected gesture will appear here\")\n",
    "        with gr.Column():\n",
    "            gr.Markdown(f\"\"\"Device: {mappedDevice}\"\"\")\n",
    "            js_output = gr.HTML(visible=False)\n",
    "            gesture_output = gr.Textbox(visible=False)\n",
    "            aframe_component = gr.HTML(\"\"\"\n",
    "                <iframe src=\"/gradio_api/file=vr/photo_gallery.html\" \n",
    "                        width=\"800\" height=\"600\" \n",
    "                        frameborder=\"0\"\n",
    "                        id=\"aframe-iframe\">\n",
    "                </iframe>\n",
    "            \"\"\")\n",
    "            #output_label = gr.Label(elem_classes=labels, visible=False, render=False, label=\"Classification Results\")\n",
    "            #output_dataframe = gr.DataFrame(label=\"Classification Results\", headers=[\"Label\", \"Confidence\"]) \n",
    "            #print(output_label)\n",
    "            plot = gr.Plot(label=\"Frames per second\")\n",
    "        dep = input_img.stream(classify_image, [input_img], [plot, gesture_output, gesture_prediction],\n",
    "                                time_limit=30, stream_every=0.1, concurrency_limit=30)      \n",
    "        gesture_output.change(\n",
    "            fn=None,\n",
    "            js=\"\"\"(gesture) => {\n",
    "                                    console.log('Gesture key:', gesture);\n",
    "                                    // Send gesture to AFrame iframe\n",
    "                                    if (gesture && gesture.trim() !== '') {\n",
    "                                        console.log('Sending gesture during stream:', gesture);\n",
    "                                        let iframe = document.getElementById('aframe-iframe');\n",
    "                                        if (iframe) {\n",
    "                                            iframe.contentWindow.postMessage({\n",
    "                                                type: 'gesture',\n",
    "                                                keyCode: gesture\n",
    "                                            }, '*');\n",
    "                                        }\n",
    "                                    }\n",
    "                                    return outputs;\n",
    "                                }\"\"\",\n",
    "            inputs=[gesture_output], outputs=[]\n",
    "        )\n",
    "        \n",
    "\n",
    "\n",
    "if __name__ == \"__main__\":\n",
    "    demo.launch()"
   ]
  },
  {
   "cell_type": "markdown",
   "id": "c9a98800-c506-4355-8bd7-5b04d94e4fcb",
   "metadata": {},
   "source": [
    "#### Note: Once you’ve finished running the notebook, ***\"Uncomment and run the cell below\"*** to release the device and free it up for further experiments."
   ]
  },
  {
   "cell_type": "code",
   "execution_count": null,
   "id": "85274cf3-2ad3-4f67-81c3-cbd38e0fe336",
   "metadata": {},
   "outputs": [],
   "source": [
    "# import os\n",
    "# os._exit(00)"
   ]
  },
  {
   "attachments": {
    "b5ba76da-de55-4da5-81ca-4519b7f3021b.png": {
     "image/png": "[encoded data removed]"
    }
   },
   "cell_type": "markdown",
   "id": "c4fd993f-bdf5-44e6-92d0-cc04a371931c",
   "metadata": {},
   "source": [
    "#### You can also use this button to reset your kernel\n",
    "\n",
    "![image.png](attachment:b5ba76da-de55-4da5-81ca-4519b7f3021b.png)"
   ]
  },
  {
   "cell_type": "code",
   "execution_count": null,
   "id": "cb53cb95-ef38-4d4d-b8e8-8a7cbf3b9fbc",
   "metadata": {},
   "outputs": [],
   "source": []
  }
 ],
 "metadata": {
  "kernelspec": {
   "display_name": "akida_env",
   "language": "python",
   "name": "python3"
  },
  "language_info": {
   "codemirror_mode": {
    "name": "ipython",
    "version": 3
   },
   "file_extension": ".py",
   "mimetype": "text/x-python",
   "name": "python",
   "nbconvert_exporter": "python",
   "pygments_lexer": "ipython3",
   "version": "3.11.13"
  }
 },
 "nbformat": 4,
 "nbformat_minor": 5
}
