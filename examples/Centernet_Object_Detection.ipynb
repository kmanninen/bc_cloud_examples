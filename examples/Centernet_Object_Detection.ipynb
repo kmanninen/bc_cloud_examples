{
 "cells": [
  {
   "cell_type": "code",
   "execution_count": null,
   "metadata": {},
   "outputs": [],
   "source": [
    "%matplotlib inline"
   ]
  },
  {
   "cell_type": "markdown",
   "metadata": {},
   "source": [
    "# CenterNet (AkidaNet18)/PASCAL-VOC detection example\n",
    "\n",
    "This example demonstrates Akida's object detection capabilities using the CenterNet (AkidaNet18) architecture."
   ]
  },
  {
   "cell_type": "markdown",
   "metadata": {
    "jp-MarkdownHeadingCollapsed": true
   },
   "source": [
    "### 1. Import model\n",
    "\n",
    "The model used for this demonstration can be found at the [Akida 2.0 Model Zoo](https://doc.brainchipinc.com/model_zoo_performance.html#id4). It has been pre-downloaded and converted to Akida here for efficiency."
   ]
  },
  {
   "cell_type": "code",
   "execution_count": null,
   "metadata": {},
   "outputs": [],
   "source": [
    "from akida import Model\n",
    "\n",
    "model_akida = Model(\"models/centernet_akidanet18_voc_384_i8_w8_a8.fbz\")\n",
    "model_akida.summary()"
   ]
  },
  {
   "cell_type": "markdown",
   "metadata": {
    "jp-MarkdownHeadingCollapsed": true
   },
   "source": [
    "### 2. Map the model onto the FPGA\n",
    "\n",
    "For more details on this flow, please see: [Model Hardware Mapping](https://doc.brainchipinc.com/user_guide/akida.html#model-hardware-mapping)"
   ]
  },
  {
   "cell_type": "code",
   "execution_count": null,
   "metadata": {},
   "outputs": [],
   "source": [
    "import akida\n",
    "from cnn2snn import set_akida_version, AkidaVersion\n",
    "# Instantiate akida model\n",
    "with set_akida_version(AkidaVersion.v2):\n",
    "    devices = akida.devices()\n",
    "    if len(devices) > 0:\n",
    "        print(f'Available devices: {[dev.desc for dev in devices]}')\n",
    "        device = devices[0]\n",
    "        print(device.version)\n",
    "        try:\n",
    "            model_akida.map(device)\n",
    "            print(f\"Mapping to Akida device {device.desc}.\")\n",
    "        except Exception as e:\n",
    "            print(\"Model not compatible with FPGA. Running on CPU.\")\n",
    "    else:\n",
    "        print(\"No Akida devices found, running on CPU.\")\n"
   ]
  },
  {
   "cell_type": "markdown",
   "metadata": {
    "jp-MarkdownHeadingCollapsed": true
   },
   "source": [
    "#### Model Summary After Mapping"
   ]
  },
  {
   "cell_type": "code",
   "execution_count": null,
   "metadata": {},
   "outputs": [],
   "source": [
    "model_akida.summary()"
   ]
  },
  {
   "cell_type": "markdown",
   "metadata": {
    "jp-MarkdownHeadingCollapsed": true
   },
   "source": [
    "### 3 Run inference on a image\n",
    "\n",
    "Here, an image is preprocessed and evaluated through the Akida model. Bounding boxes for detected objects are returned and superimposed on the image using the anchors."
   ]
  },
  {
   "cell_type": "code",
   "execution_count": null,
   "metadata": {},
   "outputs": [],
   "source": [
    "import numpy as np\n",
    "import matplotlib.pyplot as plt\n",
    "import matplotlib.patches as patches\n",
    "\n",
    "from akida_models.detection.processing import preprocess_image\n",
    "from akida_models.centernet.centernet_processing import decode_output\n",
    "\n",
    "import cv2\n",
    "\n",
    "# PASCAL VOC object detection class labels\n",
    "labels = ['aeroplane', 'bicycle', 'bird', 'boat', 'bottle', 'bus',\n",
    "         'car', 'cat', 'chair', 'cow', 'diningtable', 'dog', 'horse',\n",
    "         'motorbike', 'person', 'pottedplant', 'sheep', 'sofa',\n",
    "         'train', 'tvmonitor']\n",
    "\n",
    "# Get model input dimensions\n",
    "input_shape = model_akida.layers[0].input_dims\n",
    "\n",
    "# Load and preprocess input image\n",
    "raw_image = cv2.imread(\"img/train.jpg\")\n",
    "raw_height, raw_width, _ = raw_image.shape\n",
    "\n",
    "# Preprocess image for model input\n",
    "image = preprocess_image(raw_image, input_shape)\n",
    "input_image = image[np.newaxis, :].astype(np.uint8)\n",
    "\n",
    "output_img = np.copy(raw_image)\n",
    "\n",
    "# Run object detection inference\n",
    "pots = model_akida.predict(input_image)[0]\n",
    "\n",
    "# Decode predictions to bounding boxes\n",
    "bounding_boxes = decode_output(pots,\n",
    "                       20,  # Number of classes\n",
    "                       obj_threshold=0.4,  # Confidence threshold\n",
    "                       max_detections=100,\n",
    "                       kernel=5)\n",
    "\n",
    "# Draw bounding boxes and labels on output image\n",
    "for box in bounding_boxes:\n",
    "       # Draw rectangle around detected object\n",
    "        output_img = cv2.rectangle(output_img, \n",
    "                   (int(box.x1 * raw_width), int(box.y1 * raw_height)),\n",
    "                   (int(box.x2 * raw_width), int(box.y2 * raw_height)),\n",
    "                   color=(0, 255, 0),  # Green box\n",
    "                   thickness=2)\n",
    "        label_text = labels[box.get_label()]\n",
    "        font = cv2.FONT_HERSHEY_DUPLEX\n",
    "        font_scale = 0.8\n",
    "        thickness = 2\n",
    "        \n",
    "        # Get text size for background rectangle\n",
    "        (text_width, text_height), baseline = cv2.getTextSize(label_text, font, font_scale, thickness)\n",
    "        \n",
    "        # Draw background rectangle\n",
    "        text_x = int(box.x1 * raw_width)\n",
    "        text_y = int(box.y1 * raw_height - 10)\n",
    "        output_img = cv2.rectangle(output_img,\n",
    "                                  (text_x, text_y - text_height - baseline),\n",
    "                                  (text_x + text_width, text_y + baseline),\n",
    "                                  (0, 0, 0),  # Black background\n",
    "                                  -1)  # Filled rectangle\n",
    "        \n",
    "        # Draw text on background\n",
    "        output_img = cv2.putText(output_img,\n",
    "                        label_text,\n",
    "                        (text_x, text_y),\n",
    "                        font,\n",
    "                        font_scale,\n",
    "                        (255, 255, 255),  # White text\n",
    "                        thickness)\n",
    "\n",
    "  \n",
    "\n",
    "# Display results\n",
    "fig = plt.figure(num='VOC detection by Akida')\n",
    "ax = fig.subplots(1)\n",
    "img_plot = ax.imshow(np.zeros(output_img.shape, dtype=np.uint8))\n",
    "img_plot.set_data(output_img)\n",
    "\n",
    "plt.axis('off')\n",
    "plt.show()"
   ]
  },
  {
   "cell_type": "markdown",
   "metadata": {
    "jp-MarkdownHeadingCollapsed": true
   },
   "source": [
    "### 4 Model Statistics\n",
    "\n",
    "The advantage of running on a FPGA is the ability to accurately calculate performance, power and area metrics for a given model and process node.\n",
    "\n",
    "Here are example calculations for the CenterNet model that was tested above."
   ]
  },
  {
   "cell_type": "markdown",
   "metadata": {},
   "source": [
    "#### Performance\n",
    "\n",
    "This Akida 6-Node FPGA is running at __25 MHz__. Based on that knowledge, we need to know the frames per second on the FPGA. The `akida.Model.statistics.fps` will return this value."
   ]
  },
  {
   "cell_type": "code",
   "execution_count": null,
   "metadata": {},
   "outputs": [],
   "source": [
    "akida_fpga_mhz = 25  # MHz\n",
    "fps = model_akida.statistics.fps\n",
    "print(f\"FPS @ {akida_fpga_mhz} MHz: {fps}\")"
   ]
  },
  {
   "cell_type": "markdown",
   "metadata": {},
   "source": [
    "To estimate frames per second at a different frequency use the calculation:\n",
    "\n",
    "$$ \\frac{\\text{estimated\\_fps}}{\\text{estimated\\_mhz}} = \\frac{\\text{fps}}{\\text{akida\\_fpga\\_mhz}}$$\n",
    "\n",
    "$$\\text{estimated\\_fps} = \\frac{\\text{fps} \\times \\text{estimated\\_mhz}}{\\text{akida\\_fpga\\_mhz}} $$\n"
   ]
  },
  {
   "cell_type": "code",
   "execution_count": null,
   "metadata": {},
   "outputs": [],
   "source": [
    "estimated_mhz = 400  # Change this to your desired frequency\n",
    "estimated_fps = (fps * estimated_mhz) / akida_fpga_mhz\n",
    "print(f\"Estimated FPS @ {estimated_mhz} MHz: {estimated_fps}\")"
   ]
  },
  {
   "cell_type": "markdown",
   "metadata": {
    "jp-MarkdownHeadingCollapsed": true
   },
   "source": [
    "#### Power\n",
    "\n",
    "Estimating power consumption of a model involves understanding the architecture and size of the model (e.g. # parameters, types of layer operations, etc) as well as a target process node (e.g. TSMC 28nm, Global Foundry 22nm, etc) and target chip frequency (e.g. 400 MHz, 1 GHz, etc).\n",
    "\n",
    "Brainchip's Solution Architects have access to up to date calculations for the Akida 2.0 Register-transfer-level (RTL) and can perform estimates for your particular model. Contact your BrainChip representative when you have a model ready for estimating.\n"
   ]
  },
  {
   "cell_type": "markdown",
   "metadata": {},
   "source": [
    "#### Area\n",
    "\n",
    "Similar to power, estimating the area size required for a chip to run a model involves understanding the architecture and size of the model (e.g. # parameters, types of layer operations, etc) as well as a target process node (e.g. TSMC 28nm, Global Foundry 22nm, etc) and the ability to leverage RTL options such Hardware Partial Reconfiguration.\n",
    "\n",
    "A model that executes successfully on the FPGA is capable of receiving accurate sizing estimations. BrainChip's Solution Architects can assist with these calculations."
   ]
  },
  {
   "cell_type": "markdown",
   "metadata": {
    "jp-MarkdownHeadingCollapsed": true
   },
   "source": [
    "### 5 Release the Akida FPGA device to free it up for further experiments."
   ]
  },
  {
   "cell_type": "markdown",
   "metadata": {},
   "source": [
    "Uncomment the code in the cell below and run the cell."
   ]
  },
  {
   "cell_type": "code",
   "execution_count": null,
   "metadata": {},
   "outputs": [],
   "source": [
    "# import os\n",
    "# os._exit(00)"
   ]
  },
  {
   "attachments": {
    "0611b1d1-afe0-43f4-9f21-abb772e7d0fd.png": {
     "image/png": "[encoded data removed]"
    }
   },
   "cell_type": "markdown",
   "metadata": {},
   "source": [
    "(You can also use this button to reset your kernel)\n",
    "\n",
    "![image.png](attachment:0611b1d1-afe0-43f4-9f21-abb772e7d0fd.png)"
   ]
  }
 ],
 "metadata": {
  "kernelspec": {
   "display_name": "Python 3 (ipykernel)",
   "language": "python",
   "name": "python3"
  },
  "language_info": {
   "codemirror_mode": {
    "name": "ipython",
    "version": 3
   },
   "file_extension": ".py",
   "mimetype": "text/x-python",
   "name": "python",
   "nbconvert_exporter": "python",
   "pygments_lexer": "ipython3",
   "version": "3.11.13"
  }
 },
 "nbformat": 4,
 "nbformat_minor": 4
}
